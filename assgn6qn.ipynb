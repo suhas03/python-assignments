{
 "cells": [
  {
   "cell_type": "code",
   "execution_count": 16,
   "metadata": {},
   "outputs": [
    {
     "name": "stdout",
     "output_type": "stream",
     "text": [
      "\n",
      "*  \n",
      "*  *  \n",
      "*  *  *  \n",
      "*  *  *  *  \n",
      "*  *  *  *  *  \n",
      "*  *  *  *  \n",
      "*  *  *  \n",
      "*  *  \n",
      "*  \n"
     ]
    }
   ],
   "source": [
    "rows=5\n",
    "for i in range(rows):\n",
    "    for j in range(i):\n",
    "        print('* '),\n",
    "    print(\"\")\n",
    "for i in range(rows,0,-1):\n",
    "    for j in range(i):\n",
    "        print('* '),\n",
    "    print(\"\")    \n",
    "    "
   ]
  },
  {
   "cell_type": "code",
   "execution_count": null,
   "metadata": {},
   "outputs": [],
   "source": []
  }
 ],
 "metadata": {
  "kernelspec": {
   "display_name": "Python 2",
   "language": "python",
   "name": "python2"
  },
  "language_info": {
   "codemirror_mode": {
    "name": "ipython",
    "version": 2
   },
   "file_extension": ".py",
   "mimetype": "text/x-python",
   "name": "python",
   "nbconvert_exporter": "python",
   "pygments_lexer": "ipython2",
   "version": "2.7.15"
  }
 },
 "nbformat": 4,
 "nbformat_minor": 2
}
